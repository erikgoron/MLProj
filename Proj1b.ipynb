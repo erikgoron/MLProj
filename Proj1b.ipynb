{
 "cells": [
  {
   "cell_type": "code",
   "execution_count": 260,
   "metadata": {},
   "outputs": [],
   "source": [
    "import numpy as np\n",
    "import pandas as pd\n",
    "from sklearn.metrics import mean_squared_error\n",
    "from sklearn import linear_model\n",
    "from sklearn.model_selection import cross_val_score\n",
    "from sklearn.preprocessing import StandardScaler\n",
    "%matplotlib inline \n",
    "import matplotlib.pyplot as plt \n",
    "from sklearn.model_selection import ShuffleSplit\n"
   ]
  },
  {
   "cell_type": "code",
   "execution_count": 261,
   "metadata": {},
   "outputs": [],
   "source": [
    "trainset = pd.read_csv('train.csv')\n",
    "sample = pd.read_csv('sample.csv')"
   ]
  },
  {
   "cell_type": "code",
   "execution_count": 262,
   "metadata": {},
   "outputs": [],
   "source": [
    "y=trainset.iloc[:,1]\n",
    "X=trainset.iloc[:,2:]\n"
   ]
  },
  {
   "cell_type": "markdown",
   "metadata": {},
   "source": [
    "## Data preparation\n"
   ]
  },
  {
   "cell_type": "code",
   "execution_count": 263,
   "metadata": {},
   "outputs": [],
   "source": [
    "X1 = X.to_numpy()\n",
    "Xnp = np.concatenate((X1,np.square(X1),np.exp(X1),np.cos(X1)),axis=1)\n",
    "\n",
    "#Sca = StandardScaler()\n",
    "#Xstd = Sca.fit_transform(Xnp)\n",
    "#Xstd = pd.DataFrame(data=Xstd)"
   ]
  },
  {
   "cell_type": "markdown",
   "metadata": {},
   "source": [
    "## Model+training\n"
   ]
  },
  {
   "cell_type": "code",
   "execution_count": 264,
   "metadata": {},
   "outputs": [
    {
     "name": "stdout",
     "output_type": "stream",
     "text": [
      "35.0\n"
     ]
    }
   ],
   "source": [
    "#reg = linear_model.Ridge(alpha=50,fit_intercept=True,normalize=False)\n",
    "reg = linear_model.RidgeCV(alphas=[0.1,1,10,35,1000],fit_intercept=True,normalize=False,cv=10,scoring=\"neg_mean_squared_error\")\n",
    "reg.fit(Xnp,y)\n",
    "print(reg.alpha_)\n",
    "W=np.append(reg.coef_,reg.intercept_)"
   ]
  },
  {
   "cell_type": "markdown",
   "metadata": {},
   "source": [
    "## Score on training set\n"
   ]
  },
  {
   "cell_type": "code",
   "execution_count": 265,
   "metadata": {},
   "outputs": [
    {
     "name": "stdout",
     "output_type": "stream",
     "text": [
      "4.896706469117174\n"
     ]
    }
   ],
   "source": [
    "lin_mse = mean_squared_error(y, reg.predict(Xnp)) \n",
    "lin_rmse = np.sqrt(lin_mse)\n",
    "print(lin_rmse)"
   ]
  },
  {
   "cell_type": "markdown",
   "metadata": {},
   "source": [
    "## Cross-validation"
   ]
  },
  {
   "cell_type": "code",
   "execution_count": 266,
   "metadata": {},
   "outputs": [
    {
     "name": "stdout",
     "output_type": "stream",
     "text": [
      "RMSE score: 5.00 (+/- 0.68)\n"
     ]
    }
   ],
   "source": [
    "cv = ShuffleSplit(n_splits=10, test_size=0.2, random_state=0)\n",
    "scores = cross_val_score(reg, Xnp, y,scoring=\"neg_mean_squared_error\", cv=cv)\n",
    "regscores = np.sqrt(-scores)\n",
    "print(\"RMSE score: %0.2f (+/- %0.2f)\" % (regscores.mean(), regscores.std() * 2))\n"
   ]
  },
  {
   "cell_type": "code",
   "execution_count": 267,
   "metadata": {},
   "outputs": [],
   "source": [
    "subm = pd.DataFrame({\n",
    "    'Weights':[]\n",
    "})\n",
    "subm.loc[:,'Weights']=W\n",
    "export_csv = subm.to_csv ('Weights', index = None, header=False)"
   ]
  }
 ],
 "metadata": {
  "kernelspec": {
   "display_name": "Python 3",
   "language": "python",
   "name": "python3"
  },
  "language_info": {
   "codemirror_mode": {
    "name": "ipython",
    "version": 3
   },
   "file_extension": ".py",
   "mimetype": "text/x-python",
   "name": "python",
   "nbconvert_exporter": "python",
   "pygments_lexer": "ipython3",
   "version": "3.7.5"
  }
 },
 "nbformat": 4,
 "nbformat_minor": 2
}
